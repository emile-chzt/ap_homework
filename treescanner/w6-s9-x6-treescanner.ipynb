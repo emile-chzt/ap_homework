{
 "cells": [
  {
   "cell_type": "markdown",
   "id": "cdfc72ab",
   "metadata": {},
   "source": [
    "<div class=\"licence\">\n",
    "<span>Licence CC BY-NC-ND</span>\n",
    "<span>Thierry Parmentelat &amp; Arnaud Legout</span>\n",
    "<span><img src=\"media/both-logos-small-alpha.png\" /></span>\n",
    "</div>"
   ]
  },
  {
   "cell_type": "markdown",
   "id": "f475ebd0",
   "metadata": {},
   "source": [
    "## Exercice - niveau intermédiaire+"
   ]
  },
  {
   "cell_type": "markdown",
   "id": "b7734bfe",
   "metadata": {},
   "source": [
    "On veut écrire **une fonction génératrice** qui énumère tous les noeuds d'un arbre en le parcourant en profondeur d'abord.\n",
    "\n",
    "Pour simplifier l'exercice au maximum, nous ne considérons que des entrées constituées de listes et d'entiers."
   ]
  },
  {
   "cell_type": "code",
   "execution_count": null,
   "id": "2732f457",
   "metadata": {},
   "outputs": [],
   "source": [
    "from corrections.gen_treescanner import exo_treescanner\n",
    "exo_treescanner.example()"
   ]
  },
  {
   "cell_type": "markdown",
   "id": "8d763271",
   "metadata": {
    "tags": []
   },
   "source": [
    "la présentation de l'exemple peut laisser penser qu'il faut retourner une liste  \n",
    "mais ce n'est pas ce qui est demandé !  \n",
    "**attention** à bien implémenter **une fonction génératrice**"
   ]
  },
  {
   "cell_type": "code",
   "execution_count": null,
   "id": "fe6b1e86",
   "metadata": {},
   "outputs": [],
   "source": [
    "# à vous de jouer\n",
    "\n",
    "def explore(tree, nodes):\n",
    "\n",
    "        if type(tree) is int : \n",
    "            nodes.add(tree)     \n",
    "        else : \n",
    "            for item in tree :\n",
    "                explore(item, nodes)\n",
    "def treescanner(tree):\n",
    "    nodes = set()\n",
    "    explore(tree, nodes)\n",
    "    return iter(nodes)"
   ]
  },
  {
   "cell_type": "code",
   "execution_count": null,
   "id": "37ca5c1f",
   "metadata": {},
   "outputs": [],
   "source": [
    "treescanner([[1, 2], 3, [4, 5]])"
   ]
  },
  {
   "cell_type": "code",
   "execution_count": null,
   "id": "a38e0690",
   "metadata": {},
   "outputs": [],
   "source": [
    "# pour le corriger\n",
    "\n",
    "exo_treescanner.correction(treescanner)"
   ]
  },
  {
   "cell_type": "markdown",
   "id": "937d3ce7",
   "metadata": {},
   "source": [
    "### indice\n",
    "\n",
    "rappelez-vous que pour parcourir un arbre en profondeur d'abord, un algorithme de parcours récursif est très adapté"
   ]
  }
 ],
 "metadata": {
  "jupytext": {
   "cell_metadata_filter": "all, -hidden, -heading_collapsed, -run_control, -trusted",
   "notebook_metadata_filter": "all, -jupytext.text_representation.jupytext_version, -jupytext.text_representation.format_version, -language_info.version, -language_info.codemirror_mode.version, -language_info.codemirror_mode, -language_info.file_extension, -language_info.mimetype, -toc",
   "text_representation": {
    "extension": ".md",
    "format_name": "myst"
   }
  },
  "kernelspec": {
   "display_name": "Python 3 (ipykernel)",
   "language": "python",
   "name": "python3"
  },
  "language_info": {
   "name": "python",
   "nbconvert_exporter": "python",
   "pygments_lexer": "ipython3"
  },
  "notebookname": "exercice: treescanner",
  "version": "3.0"
 },
 "nbformat": 4,
 "nbformat_minor": 5
}
