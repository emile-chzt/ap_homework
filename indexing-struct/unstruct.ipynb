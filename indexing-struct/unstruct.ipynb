{
 "cells": [
  {
   "cell_type": "code",
   "execution_count": 73,
   "id": "eb48169f-ea42-471f-a74d-865481662bab",
   "metadata": {},
   "outputs": [],
   "source": [
    "import random as rd\n",
    "import datetime\n",
    "import time"
   ]
  },
  {
   "cell_type": "markdown",
   "id": "0bc0bb21-28a5-4281-8ef0-a483f28aa5c2",
   "metadata": {},
   "source": [
    "### creation du fichier"
   ]
  },
  {
   "cell_type": "code",
   "execution_count": 74,
   "id": "fdc17212-4cdf-402c-baf3-be832b1c7ccc",
   "metadata": {},
   "outputs": [],
   "source": [
    "def read_file(filename):\n",
    "\n",
    "\n",
    "    with open(filename) as f:\n",
    "        list_dic = []\n",
    "        for lines in f:\n",
    "\n",
    "            first, last, *birth = lines.split()\n",
    "\n",
    "            dic = {'Prénom' : first,\n",
    "\n",
    "                 'Nom' : last, 'Date de naissance' : birth}\n",
    "\n",
    "            list_dic.append(dic)\n",
    "\n",
    "    return list_dic\n"
   ]
  },
  {
   "cell_type": "markdown",
   "id": "88895ef0-2d27-4878-9318-664ef8ff4dd5",
   "metadata": {},
   "source": [
    "**date aléatoire:**"
   ]
  },
  {
   "cell_type": "code",
   "execution_count": 75,
   "id": "0ba9bae3-3c17-4bbb-bd39-0cc1c0516e3f",
   "metadata": {},
   "outputs": [],
   "source": [
    "d1 = datetime.datetime.strptime('1/1/2000', '%m/%d/%Y')\n",
    "d2 = datetime.datetime.strptime('12/31/2004', '%m/%d/%Y')\n",
    "delta = d2 - d1\n",
    "def random_date():\n",
    "    random_day = rd.randrange(delta.days)\n",
    "    date = d1 + datetime.timedelta(days = random_day)\n",
    "    return str(date.day)+' '+str(date.month)+' '+str(date.year)"
   ]
  },
  {
   "cell_type": "markdown",
   "id": "6447962d-1d18-4cbb-8d5a-28b17a15bf70",
   "metadata": {},
   "source": [
    "**temps d'execution de la création du fichier :**"
   ]
  },
  {
   "cell_type": "code",
   "execution_count": 94,
   "id": "8f2e7d03-967b-43a0-922c-38355f2c7790",
   "metadata": {},
   "outputs": [
    {
     "name": "stdout",
     "output_type": "stream",
     "text": [
      "temps execution  0.09065866470336914\n"
     ]
    }
   ],
   "source": [
    "start_time = time.time()\n",
    "\n",
    "data_set = set()\n",
    "\n",
    "with open('data_big.txt', 'w') as data_big, open('first_names.txt') as first_names, open('last_names.txt') as last_names:\n",
    "\n",
    "    L_first_names = first_names.read().split()\n",
    "\n",
    "    L_last_names = last_names.read().split()\n",
    "\n",
    "    while len(data_set) < 10**4:\n",
    "        first_name, last_name = rd.choice(L_first_names), rd.choice(L_last_names)\n",
    "        if (first_name, last_name) not in data_set: \n",
    "            data_set.add((first_name, last_name))\n",
    "\n",
    "    for first, last in data_set:\n",
    "\n",
    "        data_big.write(f'{first} {last}' + ' ' +random_date()+ '\\n')\n",
    "\n",
    "end_time = time.time()\n",
    "\n",
    "print(\"temps execution \",  end_time-start_time)"
   ]
  },
  {
   "cell_type": "markdown",
   "id": "1896acaa-f949-4623-81b4-9db79dc9d3d8",
   "metadata": {},
   "source": [
    "### recherche dans une liste :"
   ]
  },
  {
   "cell_type": "code",
   "execution_count": 135,
   "id": "c04c9d61-b4c5-4a15-b918-27a30e7e3631",
   "metadata": {},
   "outputs": [],
   "source": [
    "L_test = []\n",
    "with open('data_big.txt') as f:\n",
    "    for l in f :\n",
    "        (first_name, last_name), date = l.split()[:2], l.split()[2:]\n",
    "        L_test.append([(first_name, last_name), date])"
   ]
  },
  {
   "cell_type": "code",
   "execution_count": 136,
   "id": "390c5dc0-5853-455a-a7da-f89c1a5ab4dd",
   "metadata": {},
   "outputs": [
    {
     "name": "stdout",
     "output_type": "stream",
     "text": [
      "149 µs ± 35.1 µs per loop (mean ± std. dev. of 7 runs, 10,000 loops each)\n"
     ]
    }
   ],
   "source": [
    "\n",
    "def index_slow(L, person):\n",
    "    if person in L : return True\n",
    "    \n",
    "\n",
    "%timeit index_slow(L_test, L_test[4000])\n"
   ]
  },
  {
   "cell_type": "code",
   "execution_count": 138,
   "id": "0d7ac088-3a0f-406a-ac66-baa9689f1959",
   "metadata": {},
   "outputs": [],
   "source": [
    "d = {}\n",
    "for pers in L_test :\n",
    "        d[pers[0]] = pers[1]\n"
   ]
  },
  {
   "cell_type": "code",
   "execution_count": 139,
   "id": "7f6b6411-b780-417f-8d95-ab44a355c5f7",
   "metadata": {
    "tags": []
   },
   "outputs": [
    {
     "name": "stdout",
     "output_type": "stream",
     "text": [
      "209 ns ± 22.5 ns per loop (mean ± std. dev. of 7 runs, 1,000,000 loops each)\n"
     ]
    }
   ],
   "source": [
    "\n",
    "        \n",
    "def index_fast(d, person):\n",
    "    \n",
    "    if person in d : return True\n",
    "%timeit index_fast(d,('Maxime', 'Collin'))\n"
   ]
  },
  {
   "cell_type": "markdown",
   "id": "871b41c7-00cf-48d9-b29d-ba3e4e096a63",
   "metadata": {},
   "source": [
    "**facteur 1 000 de réduction**"
   ]
  },
  {
   "cell_type": "code",
   "execution_count": 141,
   "id": "2b3ac75b-f417-4d81-9167-6e99b576a19b",
   "metadata": {},
   "outputs": [
    {
     "name": "stdout",
     "output_type": "stream",
     "text": [
      "1.41 ms ± 137 µs per loop (mean ± std. dev. of 7 runs, 1,000 loops each)\n"
     ]
    }
   ],
   "source": [
    "def nbr_prenoms_distincts():\n",
    "    deja_vu = set()\n",
    "    for p in L_test :\n",
    "        prenom = p[0][0]\n",
    "        if prenom not in deja_vu : deja_vu.add(prenom)\n",
    "    return len(deja_vu)\n",
    "%timeit nbr_prenoms_distincts()\n"
   ]
  },
  {
   "cell_type": "code",
   "execution_count": 142,
   "id": "38414ceb-e1f2-4d00-8bf0-f733dfed6df6",
   "metadata": {},
   "outputs": [
    {
     "data": {
      "text/plain": [
       "81"
      ]
     },
     "execution_count": 142,
     "metadata": {},
     "output_type": "execute_result"
    }
   ],
   "source": [
    "nbr_prenoms_distincts()"
   ]
  }
 ],
 "metadata": {
  "kernelspec": {
   "display_name": "Python 3 (ipykernel)",
   "language": "python",
   "name": "python3"
  },
  "language_info": {
   "codemirror_mode": {
    "name": "ipython",
    "version": 3
   },
   "file_extension": ".py",
   "mimetype": "text/x-python",
   "name": "python",
   "nbconvert_exporter": "python",
   "pygments_lexer": "ipython3",
   "version": "3.9.12"
  }
 },
 "nbformat": 4,
 "nbformat_minor": 5
}
