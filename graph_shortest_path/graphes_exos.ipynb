{
 "cells": [
  {
   "cell_type": "code",
   "execution_count": 169,
   "id": "882dd770-0077-431f-99db-632c71254de4",
   "metadata": {},
   "outputs": [],
   "source": [
    "from collections import defaultdict"
   ]
  },
  {
   "cell_type": "markdown",
   "id": "cd8b9d28-ab39-4399-86b9-f746d4965d74",
   "metadata": {},
   "source": [
    "### lecture des fichiers"
   ]
  },
  {
   "cell_type": "code",
   "execution_count": 170,
   "id": "09cbc950-0e1e-47fb-acb4-a4c0be4cc1d2",
   "metadata": {},
   "outputs": [
    {
     "data": {
      "text/plain": [
       "defaultdict(dict,\n",
       "            {'a': {'b': 7, 'd': 9, 'c': 14},\n",
       "             'b': {'d': 10, 'e': 15},\n",
       "             'c': {'d': 2, 'f': 9},\n",
       "             'd': {'e': 11},\n",
       "             'e': {'f': 6}})"
      ]
     },
     "execution_count": 170,
     "metadata": {},
     "output_type": "execute_result"
    }
   ],
   "source": [
    "def parse_graph(filename): \n",
    "    dico = defaultdict(dict)\n",
    "    with open(filename) as f:\n",
    "        for line in f:\n",
    "            summit1, summit2, poids = line.strip().split(',')\n",
    "            poids = int(poids)\n",
    "            if summit1 in dico :\n",
    "                dico[summit1][summit2] = poids\n",
    "            else :\n",
    "                dico[summit1] = {summit2 : poids}\n",
    "    return dico\n",
    "\n",
    "G = parse_graph('graph.csv')\n",
    "G"
   ]
  },
  {
   "cell_type": "code",
   "execution_count": 171,
   "id": "461b444d-07a0-48d4-a6bf-9c0d89431c98",
   "metadata": {},
   "outputs": [
    {
     "data": {
      "text/plain": [
       "6"
      ]
     },
     "execution_count": 171,
     "metadata": {},
     "output_type": "execute_result"
    }
   ],
   "source": [
    "def number_vertices(D):\n",
    "    deja_vu = set()\n",
    "    \"\"\"\n",
    "    returns number of vertices\n",
    "    \n",
    "    Parameters:\n",
    "      graph: implemented as a dictionary of adjacency dictionaries\n",
    "      \n",
    "    Returns:\n",
    "      int: number of vertices\n",
    "    \"\"\"\n",
    "    for key, value in D.items():\n",
    "        if key not in deja_vu : deja_vu.add(key)\n",
    "        for key2 in value.keys():\n",
    "            if key2 not in deja_vu : deja_vu.add(key2)\n",
    "    return len(deja_vu)\n",
    "number_vertices(G)"
   ]
  },
  {
   "cell_type": "code",
   "execution_count": 172,
   "id": "01489373",
   "metadata": {},
   "outputs": [
    {
     "data": {
      "text/plain": [
       "{'d', 'e', 'f'}"
      ]
     },
     "execution_count": 172,
     "metadata": {},
     "output_type": "execute_result"
    }
   ],
   "source": [
    "def reachables(graph, s):\n",
    "    \"\"\"\n",
    "    computes the set of reachable vertices in a graph from source s\n",
    "\n",
    "    Parameters:\n",
    "      graph: a graph implemented as a dict of adjacency dicts\n",
    "      s: the source vertex\n",
    "    Returns:\n",
    "      a set of vertices in graph\n",
    "    \"\"\"\n",
    "    already_seen = set([s])\n",
    "    available = set(graph[s].keys())\n",
    "    while not available.issubset(already_seen):\n",
    "      new_available = set()\n",
    "      new_seen = set()\n",
    "      for s2 in available:\n",
    "        already_seen.add(s2)\n",
    "        new_seen.add(s2)\n",
    "        new_available.update(set(graph[s2].keys()))\n",
    "      available.difference_update(new_seen)\n",
    "      available.update(new_available)\n",
    "    return already_seen\n",
    "\n",
    "reachables(G, 'd')"
   ]
  },
  {
   "cell_type": "code",
   "execution_count": 173,
   "id": "fe6a7560",
   "metadata": {},
   "outputs": [
    {
     "name": "stdout",
     "output_type": "stream",
     "text": [
      "depuis a → {'d', 'c', 'e', 'f', 'b', 'a'}\n",
      "depuis b → {'d', 'b', 'e', 'f'}\n",
      "depuis c → {'d', 'e', 'c', 'f'}\n",
      "depuis d → {'d', 'e', 'f'}\n",
      "depuis e → {'f', 'e'}\n",
      "depuis f → {'f'}\n"
     ]
    }
   ],
   "source": [
    "# comment écrire un petit test plus informatif\n",
    "# sur le premier graphe témoin\n",
    "\n",
    "# on énumère à la main les sommets à tester \n",
    "# et les résultats attendus\n",
    "G_tests = [\n",
    "    ('a', {'a', 'b', 'c', 'd', 'e', 'f'}),\n",
    "    ('b', {'b', 'd', 'e', 'f'}),\n",
    "    ('c', {'c', 'd', 'e', 'f'}),\n",
    "    ('d', {'d', 'e', 'f'}),\n",
    "    ('e', {'e', 'f'}),\n",
    "    ('f', {'f'}),\n",
    "]\n",
    "\n",
    "# on vérifie pour chacun qu'on\n",
    "# obtient bien le résultat attendu\n",
    "for (s, expected) in G_tests:\n",
    "    computed = reachables(G, s)\n",
    "    if computed != expected:\n",
    "        print(f\"ERROR found {computed} != {expected}\")\n",
    "    else:\n",
    "        print(f\"depuis {s} → {computed}\")"
   ]
  },
  {
   "cell_type": "code",
   "execution_count": 174,
   "id": "6d77d9e2",
   "metadata": {},
   "outputs": [
    {
     "data": {
      "text/plain": [
       "20"
      ]
     },
     "execution_count": 174,
     "metadata": {},
     "output_type": "execute_result"
    }
   ],
   "source": [
    "def shortest_distance1(graph, a, f):\n",
    "    mark = {a : 0}\n",
    "    visited = set([a]) #sinon V1 devient {'1', 'V'}\n",
    "    s0 = a\n",
    "    while f not in visited :\n",
    "        \n",
    "        min_mark = 10000\n",
    "        d0 = None\n",
    "        i = 0\n",
    "        for s in visited:                \n",
    "                if s in graph : \n",
    "                    for d in graph[s].keys():\n",
    "                        \n",
    "                        if d not in visited:\n",
    "                            \n",
    "                            i += 1\n",
    "                            m = mark[s] + graph[s][d]\n",
    "                            if m <= min_mark:\n",
    "                                min_mark = m\n",
    "                                d0 = d\n",
    "                                s0 = s\n",
    "\n",
    "        if i == 0 : return 'not available'\n",
    "    \n",
    "        \n",
    "        visited.add(d0)\n",
    "        mark[d0] = mark[s0] + graph[s0][d0]\n",
    "    return mark[d0]\n",
    "    \n",
    "          \n",
    "shortest_distance1(G, 'a', 'e')            \n",
    "\n"
   ]
  },
  {
   "cell_type": "code",
   "execution_count": 175,
   "id": "cc2caf98-cf64-4cca-9122-3dec5bfdae10",
   "metadata": {},
   "outputs": [
    {
     "data": {
      "text/plain": [
       "defaultdict(dict,\n",
       "            {'v1': {'v3': 5, 'v2': 1},\n",
       "             'v2': {'v3': 1, 'v4': 3, 'v5': 4},\n",
       "             'v3': {'v4': 1},\n",
       "             'v4': {'v5': 1, 'v6': 3},\n",
       "             'v5': {'v6': 1}})"
      ]
     },
     "execution_count": 175,
     "metadata": {},
     "output_type": "execute_result"
    }
   ],
   "source": [
    "G2 = parse_graph('data/graph2.csv')\n",
    "G2"
   ]
  },
  {
   "cell_type": "code",
   "execution_count": 176,
   "id": "694c366f",
   "metadata": {},
   "outputs": [
    {
     "data": {
      "text/plain": [
       "5"
      ]
     },
     "execution_count": 176,
     "metadata": {},
     "output_type": "execute_result"
    }
   ],
   "source": [
    "shortest_distance1(G2, 'v1', 'v6')"
   ]
  },
  {
   "cell_type": "code",
   "execution_count": 177,
   "id": "76791b51",
   "metadata": {},
   "outputs": [
    {
     "data": {
      "text/plain": [
       "(23, ['a', 'c', 'f'])"
      ]
     },
     "execution_count": 177,
     "metadata": {},
     "output_type": "execute_result"
    }
   ],
   "source": [
    "def shortest_path(graph, a, f):\n",
    "    mark = {a : (0,[a])}\n",
    "    visited = set([a]) #[] sinon V1 devient {'1', 'V'}\n",
    "    s0 = a\n",
    "    while f not in visited :\n",
    "        \n",
    "        min_mark = 100000\n",
    "        d0 = 'a'\n",
    "        i = 0\n",
    "        for s in visited:                \n",
    "                for d in graph[s].keys():                        \n",
    "                    if d not in visited:                            \n",
    "                        i += 1\n",
    "                        m = mark[s][0] + graph[s][d]\n",
    "                        if m <= min_mark:\n",
    "                            min_mark = m\n",
    "                            d0 = d\n",
    "                            s0 = s\n",
    "\n",
    "        if i == 0 : return 'not available'\n",
    "    \n",
    "        \n",
    "        visited.add(d0)\n",
    "        mark[d0] =(mark[s0][0] + graph[s0][d0], mark[s0][1] + [d0]) \n",
    "    return mark[d0]\n",
    "shortest_path(G, 'a', 'f')"
   ]
  },
  {
   "cell_type": "markdown",
   "id": "a66338d0",
   "metadata": {},
   "source": [
    "Allons chercher les données :"
   ]
  },
  {
   "cell_type": "code",
   "execution_count": 178,
   "id": "fc539624",
   "metadata": {},
   "outputs": [],
   "source": [
    "# voici l'idiome qui permet d'aller chercher \n",
    "# une page web à partir de son URL\n",
    "import requests\n",
    "thrones_url = \"https://raw.githubusercontent.com/pupimvictor/NetworkOfThrones/master/stormofswords.csv\"\n",
    "get_request = requests.get(thrones_url)\n",
    "text_data = get_request.text\n"
   ]
  },
  {
   "cell_type": "code",
   "execution_count": 179,
   "id": "7f6190a2",
   "metadata": {},
   "outputs": [],
   "source": [
    "data = text_data.split('\\n')[1:-1] #contenait une ligne vide à la fin qui plantait parse_graph\n",
    "with open('data/my_thrones.csv', 'w') as f :\n",
    "    for character in data :\n",
    "        f.write(character + '\\n')\n"
   ]
  },
  {
   "cell_type": "code",
   "execution_count": 180,
   "id": "1facc817",
   "metadata": {},
   "outputs": [
    {
     "name": "stdout",
     "output_type": "stream",
     "text": [
      "Aemon,Grenn,5\n",
      "Aemon,Samwell,31\n",
      "Aerys,Jaime,18\n",
      "Aerys,Robert,6\n",
      "Aerys,Tyrion,5\n"
     ]
    }
   ],
   "source": [
    "!head -5 data/my_thrones.csv"
   ]
  },
  {
   "cell_type": "code",
   "execution_count": 181,
   "id": "201cb4f3",
   "metadata": {},
   "outputs": [],
   "source": [
    "thrones =  parse_graph('data/my_thrones.csv')\n"
   ]
  },
  {
   "cell_type": "code",
   "execution_count": 182,
   "id": "35a43325",
   "metadata": {},
   "outputs": [
    {
     "name": "stdout",
     "output_type": "stream",
     "text": [
      "number_vertices(thrones)=107\n",
      "4\n"
     ]
    },
    {
     "data": {
      "text/plain": [
       "'not available'"
      ]
     },
     "execution_count": 182,
     "metadata": {},
     "output_type": "execute_result"
    }
   ],
   "source": [
    "print(f'{number_vertices(thrones)=}')\n",
    "print(len(reachables(thrones, 'Shireen')))\n",
    "shortest_path(thrones, 'Margaery', 'Eddard')"
   ]
  }
 ],
 "metadata": {
  "kernelspec": {
   "display_name": "Python 3 (ipykernel)",
   "language": "python",
   "name": "python3"
  },
  "language_info": {
   "codemirror_mode": {
    "name": "ipython",
    "version": 3
   },
   "file_extension": ".py",
   "mimetype": "text/x-python",
   "name": "python",
   "nbconvert_exporter": "python",
   "pygments_lexer": "ipython3",
   "version": "3.9.12"
  },
  "vscode": {
   "interpreter": {
    "hash": "ec1ec0cc1656b8527a07a38fa0601b12c06b231c8df053885339ef715cf46c3e"
   }
  }
 },
 "nbformat": 4,
 "nbformat_minor": 5
}
