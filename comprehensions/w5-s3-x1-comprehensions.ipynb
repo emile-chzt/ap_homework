{
 "cells": [
  {
   "cell_type": "markdown",
   "id": "3786e9eb",
   "metadata": {},
   "source": [
    "<div class=\"licence\">\n",
    "<span>Licence CC BY-NC-ND</span>\n",
    "<span>Thierry Parmentelat &amp; Arnaud Legout</span>\n",
    "<span><img src=\"media/both-logos-small-alpha.png\" /></span>\n",
    "</div>"
   ]
  },
  {
   "cell_type": "markdown",
   "id": "6cb7340b",
   "metadata": {},
   "source": [
    "# Compréhensions"
   ]
  },
  {
   "cell_type": "markdown",
   "id": "201268ae",
   "metadata": {},
   "source": [
    "## Exercice - niveau basique\n",
    "\n",
    "Il vous est demandé d'écrire une fonction `aplatir` qui prend *un unique* argument `l_conteneurs` qui est une liste (ou plus généralement un itérable) de conteneurs (ou plus généralement d'itérables), et qui retourne la liste de tous les éléments de tous les conteneurs."
   ]
  },
  {
   "cell_type": "code",
   "execution_count": null,
   "id": "31d3dd62",
   "metadata": {},
   "outputs": [],
   "source": [
    "# par exemple\n",
    "from corrections.exo_aplatir import exo_aplatir\n",
    "exo_aplatir.example()"
   ]
  },
  {
   "cell_type": "code",
   "execution_count": null,
   "id": "ff2203e0",
   "metadata": {},
   "outputs": [],
   "source": [
    "from itertools import chain"
   ]
  },
  {
   "cell_type": "code",
   "execution_count": null,
   "id": "bc9e864a",
   "metadata": {},
   "outputs": [],
   "source": [
    "def aplatir(conteneurs):\n",
    "    return list(chain(*conteneurs))"
   ]
  },
  {
   "cell_type": "code",
   "execution_count": null,
   "id": "221c8ed7",
   "metadata": {},
   "outputs": [],
   "source": [
    "# vérifier votre code\n",
    "exo_aplatir.correction(aplatir)"
   ]
  },
  {
   "cell_type": "markdown",
   "id": "d0f2e7b0",
   "metadata": {},
   "source": [
    "## Exercice - niveau intermédiaire\n",
    "\n",
    "À présent, on passe en argument deux conteneurs (deux itérables) `c1` et `c2` de même taille à la fonction `alternat`, qui doit construire une liste contenant les éléments pris alternativement dans `c1` et dans `c2`."
   ]
  },
  {
   "cell_type": "code",
   "execution_count": null,
   "id": "6f67042c",
   "metadata": {},
   "outputs": [],
   "source": [
    "# exemple\n",
    "from corrections.exo_alternat import exo_alternat\n",
    "exo_alternat.example()"
   ]
  },
  {
   "cell_type": "markdown",
   "id": "c0a10a04",
   "metadata": {},
   "source": [
    "**Indice** pour cet exercice il peut être pertinent de recourir à la fonction *built-in* `zip`."
   ]
  },
  {
   "cell_type": "code",
   "execution_count": null,
   "id": "ce864ff8",
   "metadata": {},
   "outputs": [],
   "source": [
    "def alternat(c1, c2):\n",
    "    L = []\n",
    "    for a, b in zip(c1, c2):\n",
    "        L.append(a), L.append(b)\n",
    "    return L"
   ]
  },
  {
   "cell_type": "code",
   "execution_count": null,
   "id": "3df72a07",
   "metadata": {},
   "outputs": [],
   "source": [
    "# pour vérifier votre code\n",
    "exo_alternat.correction(alternat)"
   ]
  },
  {
   "cell_type": "markdown",
   "id": "9b4d90d2",
   "metadata": {},
   "source": [
    "## Exercice - niveau intermédiaire"
   ]
  },
  {
   "cell_type": "markdown",
   "id": "fc348b73",
   "metadata": {},
   "source": [
    "On se donne deux ensembles A et B de tuples de la forme\n",
    "\n",
    "```python\n",
    "(entier, valeur)\n",
    "```\n",
    "\n",
    "On vous demande d'écrire une fonction `intersect` qui retourne l'ensemble des objets `valeur` associés (dans A ou dans B) à un entier qui soit présent dans (un tuple de) A *et* dans (un tuple de) B."
   ]
  },
  {
   "cell_type": "code",
   "execution_count": null,
   "id": "0b5ef3a6",
   "metadata": {},
   "outputs": [],
   "source": [
    "# un exemple\n",
    "from corrections.exo_intersect import exo_intersect\n",
    "exo_intersect.example()"
   ]
  },
  {
   "cell_type": "code",
   "execution_count": null,
   "id": "c65f1a22",
   "metadata": {},
   "outputs": [],
   "source": [
    "A = {(1,2), (3,4)}\n",
    "for k , v in A:\n",
    "    print(k,v)"
   ]
  },
  {
   "cell_type": "code",
   "execution_count": null,
   "id": "4f675498",
   "metadata": {},
   "outputs": [],
   "source": [
    "def intersect(A, B):\n",
    "    rep_set = set()\n",
    "    deja_vu = dict()\n",
    "    for key, value in A :\n",
    "        deja_vu[key] = value\n",
    "        \n",
    "    for key, value in B:\n",
    "        if key in deja_vu:\n",
    "            rep_set.add(value)\n",
    "            rep_set.add(deja_vu[key])\n",
    "    return rep_set"
   ]
  },
  {
   "cell_type": "code",
   "execution_count": null,
   "id": "221d7e79",
   "metadata": {},
   "outputs": [],
   "source": [
    "# pour vérifier votre code\n",
    "exo_intersect.correction(intersect)"
   ]
  }
 ],
 "metadata": {
  "jupytext": {
   "cell_metadata_filter": "all, -hidden, -heading_collapsed, -run_control, -trusted",
   "notebook_metadata_filter": "all, -jupytext.text_representation.jupytext_version, -jupytext.text_representation.format_version, -language_info.version, -language_info.codemirror_mode.version, -language_info.codemirror_mode, -language_info.file_extension, -language_info.mimetype, -toc",
   "text_representation": {
    "extension": ".md",
    "format_name": "myst"
   }
  },
  "kernelspec": {
   "display_name": "Python 3 (ipykernel)",
   "language": "python",
   "name": "python3"
  },
  "language_info": {
   "name": "python",
   "nbconvert_exporter": "python",
   "pygments_lexer": "ipython3"
  },
  "notebookname": "Compréhensions",
  "version": "3.0"
 },
 "nbformat": 4,
 "nbformat_minor": 5
}
