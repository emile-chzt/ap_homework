{
 "cells": [
  {
   "cell_type": "markdown",
   "id": "fc381708",
   "metadata": {},
   "source": [
    "<div class=\"licence\">\n",
    "<span>Licence CC BY-NC-ND</span>\n",
    "<span>Thierry Parmentelat &amp; Arnaud Legout</span>\n",
    "<span><img src=\"media/both-logos-small-alpha.png\" /></span>\n",
    "</div>"
   ]
  },
  {
   "cell_type": "markdown",
   "id": "494f96c4",
   "metadata": {},
   "source": [
    "## exercice - niveau avancé"
   ]
  },
  {
   "cell_type": "markdown",
   "id": "6edcb5f6",
   "metadata": {},
   "source": [
    "Le [corps des quaternions](https://fr.wikipedia.org/wiki/Quaternion) est une extension non commutative du corps des complexes; la construction mathématique est totalement hors sujet pour nous, on va se contenter de ces quelques bribes :\n",
    "\n",
    "* les quaternions peuvent être vus comme un espace vectoriel \n",
    "  sur $\\mathbb{R}$, un peu comme les complexes mais de dimension 4\n",
    "* un quaternion s'écrit donc $q = a + bi + cj + dk$  \n",
    "  avec $(a, b, c, d) \\in \\mathbb{R}^4$  \n",
    "  (les deux premiers éléments $1$ et $i$ de cette base canonique sont ceux des nombres complexes)\n",
    "* les trois éléments $i, j, k$ sont tels que  \n",
    "  $$i^2 = j^2 = k^2 = ijk = -1$$"
   ]
  },
  {
   "cell_type": "markdown",
   "id": "bf5aae42",
   "metadata": {},
   "source": [
    "**attention** : l'addition est bien commutative,  \n",
    "mais à nouveau **la multiplication n'est pas commutative**  \n",
    "ainsi par exemple $ij = k$ mais $ji = -k$\n",
    "\n",
    "les règles indiquées ci-dessus impliquent (on vous laisse vous en assurer) que la table de multiplication est la suivante\n",
    "\n",
    "![](media/quaternion-table.png)"
   ]
  },
  {
   "cell_type": "markdown",
   "id": "ddd4dfa8",
   "metadata": {},
   "source": [
    "On se propose ici d'écrire une classe pour représenter les quaternions.\n",
    "\n",
    "**Notes importantes**\n",
    "\n",
    "* il est malheureux que Python ait retenu la notation `j` pour représenter ce qu'on appelle $i$ dans le corps des complexes, surtout dans ce contexte des quaternions où il y a un autre nombre qui s'appelle justement $j$...\n",
    "\n",
    "* le système de correction automatique a besoin également que votre classe définisse son comportement vis-à-vis de `repr()` ; regardez les exemples pour voir la représentation choisie, et inspirez-vous de la fonction `number_str` comme suit :"
   ]
  },
  {
   "cell_type": "code",
   "execution_count": 2,
   "id": "3525dd9c",
   "metadata": {},
   "outputs": [],
   "source": [
    "# vous vous souvenez des type hints ?\n",
    "# sinon retournez voir la semaine 4 séquence 1\n",
    "\n",
    "def number_str(x: float) -> str:\n",
    "    \"\"\"\n",
    "    la fonction utilisée dans Quaternion.__repr__ \n",
    "    pour la mise en forme des nombres\n",
    "    \"\"\"\n",
    "    if isinstance(x, int):\n",
    "        return f\"{x}\"\n",
    "    elif isinstance(x, float):\n",
    "        return f\"{x:.1f}\""
   ]
  },
  {
   "cell_type": "code",
   "execution_count": 3,
   "id": "c663e645",
   "metadata": {},
   "outputs": [
    {
     "data": {
      "text/plain": [
       "'3'"
      ]
     },
     "execution_count": 3,
     "metadata": {},
     "output_type": "execute_result"
    }
   ],
   "source": [
    "number_str(3)"
   ]
  },
  {
   "cell_type": "code",
   "execution_count": 4,
   "id": "0a3b1f70",
   "metadata": {},
   "outputs": [
    {
     "ename": "ModuleNotFoundError",
     "evalue": "No module named 'corrections'",
     "output_type": "error",
     "traceback": [
      "\u001b[1;31m---------------------------------------------------------------------------\u001b[0m",
      "\u001b[1;31mModuleNotFoundError\u001b[0m                       Traceback (most recent call last)",
      "\u001b[1;32mc:\\Users\\Emile\\Documents\\travail émile\\UE_12 informatique\\12.2_apprentissage de la programmation\\ap_homework\\quaternions\\w6-s9-x8-quaternion.ipynb Cellule 8\u001b[0m in \u001b[0;36m<cell line: 1>\u001b[1;34m()\u001b[0m\n\u001b[1;32m----> <a href='vscode-notebook-cell:/c%3A/Users/Emile/Documents/travail%20%C3%A9mile/UE_12%20informatique/12.2_apprentissage%20de%20la%20programmation/ap_homework/quaternions/w6-s9-x8-quaternion.ipynb#X10sZmlsZQ%3D%3D?line=0'>1</a>\u001b[0m \u001b[39mfrom\u001b[39;00m \u001b[39mcorrections\u001b[39;00m\u001b[39m.\u001b[39;00m\u001b[39mcls_quaternion\u001b[39;00m \u001b[39mimport\u001b[39;00m exo_quaternion\n\u001b[0;32m      <a href='vscode-notebook-cell:/c%3A/Users/Emile/Documents/travail%20%C3%A9mile/UE_12%20informatique/12.2_apprentissage%20de%20la%20programmation/ap_homework/quaternions/w6-s9-x8-quaternion.ipynb#X10sZmlsZQ%3D%3D?line=1'>2</a>\u001b[0m exo_quaternion\u001b[39m.\u001b[39mexample()\n",
      "\u001b[1;31mModuleNotFoundError\u001b[0m: No module named 'corrections'"
     ]
    }
   ],
   "source": [
    "from corrections.cls_quaternion import exo_quaternion\n",
    "exo_quaternion.example()"
   ]
  },
  {
   "cell_type": "code",
   "execution_count": 24,
   "id": "e15d456e",
   "metadata": {},
   "outputs": [],
   "source": [
    "# votre code\n",
    "\n",
    "class Quaternion:\n",
    "    \n",
    "    def __init__(self, a, b, c, d):\n",
    "        \n",
    "        self.vector = (a, b, c, d)\n",
    "        \n",
    "    def __repr__(self):\n",
    "        \n",
    "        base = ['', 'i', 'j', 'k']\n",
    "        rep = ''\n",
    "        for i, value in enumerate(self.vector):\n",
    "            if value != 0:\n",
    "                rep += number_str(value) + base[i]\n",
    "            \n",
    "    \n",
    "        return rep\n",
    "    \n",
    "    def __eq__(self, other):\n",
    "        if isinstance(other, complex):\n",
    "            other = Quaternion(other.real, other.imag, 0, 0)\n",
    "            return other == self\n",
    "        elif isinstance(other, int) or isinstance(other, float):\n",
    "            other = Quaternion(other, 0, 0, 0)\n",
    "            return self == other\n",
    "        else: \n",
    "            if self.vector == other.vector : return True\n",
    "            else: return False\n",
    "        \n",
    "    def __add__(self, other):\n",
    "        \n",
    "        a1, b1, c1, d1 = self.vector\n",
    "        a2, b2, c2, d2 = other.vector\n",
    "        return Quaternion(a1+a2, b1+b2, c1+c2, d1+d2)\n",
    "    \n",
    "    def __mul__(self, other):\n",
    "        \n",
    "        a1, b1, c1, d1 = self.vector\n",
    "        a2, b2, c2, d2 = other.vector\n",
    "        return Quaternion(a1*a2-b1*b2-c1*c2-d1*d2, a1*b2+b1*a2+c1*d2-d1*c2, a1*c2-b1*d2+c1*a2+d1*b2, a1*d2+b1*c2-c1*b2+d1*a2)"
   ]
  },
  {
   "cell_type": "code",
   "execution_count": null,
   "id": "80be8f30",
   "metadata": {},
   "outputs": [],
   "source": [
    "# correction\n",
    "exo_quaternion.correction(Quaternion)"
   ]
  },
  {
   "cell_type": "markdown",
   "id": "9ba897e3",
   "metadata": {},
   "source": [
    "*****"
   ]
  },
  {
   "cell_type": "code",
   "execution_count": 25,
   "id": "2ce066f6",
   "metadata": {},
   "outputs": [],
   "source": [
    "# peut-être utile pour debugger ?\n",
    "I = Quaternion(0, 1, 0, 0)\n",
    "J = Quaternion(0, 0, 1, 0)\n",
    "K = Quaternion(0, 0, 0, 1)"
   ]
  },
  {
   "cell_type": "code",
   "execution_count": 8,
   "id": "ed3aa262",
   "metadata": {},
   "outputs": [
    {
     "data": {
      "text/plain": [
       "True"
      ]
     },
     "execution_count": 8,
     "metadata": {},
     "output_type": "execute_result"
    }
   ],
   "source": [
    "I*J == K"
   ]
  },
  {
   "cell_type": "code",
   "execution_count": 9,
   "id": "9d34ddaa",
   "metadata": {},
   "outputs": [
    {
     "data": {
      "text/plain": [
       "True"
      ]
     },
     "execution_count": 9,
     "metadata": {},
     "output_type": "execute_result"
    }
   ],
   "source": [
    "J*K == I"
   ]
  },
  {
   "cell_type": "code",
   "execution_count": 10,
   "id": "9d9d95c4",
   "metadata": {},
   "outputs": [
    {
     "data": {
      "text/plain": [
       "True"
      ]
     },
     "execution_count": 10,
     "metadata": {},
     "output_type": "execute_result"
    }
   ],
   "source": [
    "K*I == J"
   ]
  },
  {
   "cell_type": "code",
   "execution_count": 14,
   "id": "63de4e99",
   "metadata": {},
   "outputs": [
    {
     "data": {
      "text/plain": [
       "True"
      ]
     },
     "execution_count": 14,
     "metadata": {},
     "output_type": "execute_result"
    }
   ],
   "source": [
    "I*I == J*J == K*K == -1"
   ]
  },
  {
   "cell_type": "code",
   "execution_count": 26,
   "id": "c97dc6f8",
   "metadata": {},
   "outputs": [
    {
     "data": {
      "text/plain": [
       "True"
      ]
     },
     "execution_count": 26,
     "metadata": {},
     "output_type": "execute_result"
    }
   ],
   "source": [
    "J*K == 1j"
   ]
  },
  {
   "cell_type": "code",
   "execution_count": 27,
   "id": "cffb6917",
   "metadata": {},
   "outputs": [
    {
     "data": {
      "text/plain": [
       "True"
      ]
     },
     "execution_count": 27,
     "metadata": {},
     "output_type": "execute_result"
    }
   ],
   "source": [
    "K*J == -1j"
   ]
  },
  {
   "cell_type": "code",
   "execution_count": null,
   "id": "d0dfdab7",
   "metadata": {},
   "outputs": [],
   "source": [
    "Quaternion(1, 2, 3, 4) == (1+2j) + J * Quaternion(3-4j)"
   ]
  },
  {
   "cell_type": "code",
   "execution_count": null,
   "id": "bdcc795c",
   "metadata": {},
   "outputs": [],
   "source": [
    "..."
   ]
  },
  {
   "cell_type": "markdown",
   "id": "70e7be97",
   "metadata": {},
   "source": [
    "comme exercice, vous pouvez aussi vous amuser à vérifier l'identité suivante (extraite de [cette vidéo de 3blue1brown](https://www.youtube.com/watch?v=d4EgbgTm0Bg))\n",
    "\n",
    "![](media/quaternion-multiply.png)"
   ]
  }
 ],
 "metadata": {
  "ipub": {
   "sphinx": {
    "toggle_input": true,
    "toggle_input_all": true,
    "toggle_output": true,
    "toggle_output_all": true
   }
  },
  "jupytext": {
   "cell_metadata_filter": "all, -hidden, -heading_collapsed, -run_control, -trusted",
   "notebook_metadata_filter": "all, -jupytext.text_representation.jupytext_version, -jupytext.text_representation.format_version, -language_info.version, -language_info.codemirror_mode.version, -language_info.codemirror_mode, -language_info.file_extension, -language_info.mimetype, -toc",
   "text_representation": {
    "extension": ".md",
    "format_name": "myst"
   }
  },
  "kernelspec": {
   "display_name": "Python 3.9.12 ('base')",
   "language": "python",
   "name": "python3"
  },
  "language_info": {
   "codemirror_mode": {
    "name": "ipython",
    "version": 3
   },
   "file_extension": ".py",
   "mimetype": "text/x-python",
   "name": "python",
   "nbconvert_exporter": "python",
   "pygments_lexer": "ipython3",
   "version": "3.9.12"
  },
  "notebookname": "classe Quaternion",
  "version": "3.0",
  "vscode": {
   "interpreter": {
    "hash": "2172913d4612856e3bbc325c0b7fb332e765f63a52fed726fb1f267ce3eabcc0"
   }
  }
 },
 "nbformat": 4,
 "nbformat_minor": 5
}
